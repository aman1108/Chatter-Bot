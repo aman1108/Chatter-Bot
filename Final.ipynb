{
 "cells": [
  {
   "cell_type": "code",
   "execution_count": 1,
   "metadata": {},
   "outputs": [
    {
     "name": "stderr",
     "output_type": "stream",
     "text": [
      "[nltk_data] Downloading package wordnet to\n",
      "[nltk_data]     C:\\Users\\SILENTONE\\AppData\\Roaming\\nltk_data...\n",
      "[nltk_data]   Package wordnet is already up-to-date!\n"
     ]
    }
   ],
   "source": [
    "#for datawrangling and manipulation\n",
    "\n",
    "import pandas as pd\n",
    "import numpy as np\n",
    "\n",
    "import tweepy\n",
    "import json\n",
    "import matplotlib.pyplot as plt\n",
    "\n",
    "#for NLP text processing and formatting\n",
    "\n",
    "import re\n",
    "import string\n",
    "from nltk.corpus import stopwords\n",
    "from nltk.tokenize import word_tokenize\n",
    "\n",
    "import os\n",
    "\n",
    "import time\n",
    "\n",
    "plt.style.use('seaborn')\n",
    "# For word lemmitization\n",
    "import nltk\n",
    "nltk.download('wordnet')\n",
    "from nltk.stem import WordNetLemmatizer\n",
    "\n",
    "# for word Stemming\n",
    "from nltk.stem.porter import PorterStemmer\n",
    "\n",
    "# for Machine Learning process\n",
    "\n",
    "from sklearn.feature_extraction.text import TfidfVectorizer\n",
    "from sklearn.model_selection import train_test_split\n",
    "from sklearn.naive_bayes import MultinomialNB\n",
    "from sklearn.linear_model import LogisticRegression\n",
    "from sklearn.svm import SVC\n",
    "\n",
    "# for Machine Learning model evaluation\n",
    "\n",
    "from sklearn.metrics import classification_report\n",
    "from sklearn.metrics import accuracy_score\n",
    "from sklearn.metrics import confusion_matrix\n",
    "\n",
    "\n",
    "# Global Parameters\n",
    "stop_words = set(stopwords.words('english'))"
   ]
  },
  {
   "cell_type": "code",
   "execution_count": 2,
   "metadata": {},
   "outputs": [],
   "source": [
    "def preprocess_tweet_text(tweet):\n",
    "    \"\"\"\n",
    "    Function to process the the tweet text and tranform it into format usable by Machine learning models\n",
    "    \"\"\"\n",
    "    \n",
    "    # to convert all the characters of the tweet into lower case alphabets\n",
    "    tweet.lower()\n",
    "    \n",
    "    # Remove urls from the tweets\n",
    "    tweet = re.sub(r\"http\\S+|www\\S+|https\\S+\", '', tweet, flags=re.MULTILINE)\n",
    "    \n",
    "    # Remove user related references from the tweets:: '@' and '#' \n",
    "    tweet = re.sub(r'\\@\\w+|\\#','', tweet)\n",
    "    \n",
    "    # Remove punctuations from the tweets\n",
    "    tweet = tweet.translate(str.maketrans('', '', string.punctuation))\n",
    "    \n",
    "    # Remove stopwords from the tweets\n",
    "    tweet_tokens = word_tokenize(tweet)\n",
    "    filtered_words = [w for w in tweet_tokens if not w in stop_words]\n",
    "    joined_text = \" \".join(filtered_words)\n",
    "    \n",
    "    return joined_text"
   ]
  },
  {
   "cell_type": "code",
   "execution_count": 4,
   "metadata": {},
   "outputs": [],
   "source": [
    "def get_feature_vector(train_fit):\n",
    "    \"\"\"\n",
    "    Function to Convert a collection of raw documents to a matrix of TF-IDF features.\n",
    "    \"\"\"\n",
    "    \n",
    "    vector = TfidfVectorizer(sublinear_tf=True)      # Defining the vector\n",
    "    vector.fit(train_fit)                            # fitting the data into the vector\n",
    "    return vector                                    # returning the vector as function call"
   ]
  },
  {
   "cell_type": "code",
   "execution_count": 5,
   "metadata": {},
   "outputs": [],
   "source": [
    "def int_to_string(sentiment):\n",
    "    \n",
    "    \"\"\"\n",
    "    Function to convert the integer score into corresponding sentiment\n",
    "    \"\"\"\n",
    "    \n",
    "    if sentiment == 0:\n",
    "        return \"Negative\"\n",
    "    elif sentiment == 2:\n",
    "        return \"Neutral\"\n",
    "    else:\n",
    "        return \"Positive\""
   ]
  },
  {
   "cell_type": "markdown",
   "metadata": {},
   "source": [
    "# Importing the Dataset :"
   ]
  },
  {
   "cell_type": "code",
   "execution_count": 6,
   "metadata": {},
   "outputs": [
    {
     "data": {
      "text/html": [
       "<div>\n",
       "<style scoped>\n",
       "    .dataframe tbody tr th:only-of-type {\n",
       "        vertical-align: middle;\n",
       "    }\n",
       "\n",
       "    .dataframe tbody tr th {\n",
       "        vertical-align: top;\n",
       "    }\n",
       "\n",
       "    .dataframe thead th {\n",
       "        text-align: right;\n",
       "    }\n",
       "</style>\n",
       "<table border=\"1\" class=\"dataframe\">\n",
       "  <thead>\n",
       "    <tr style=\"text-align: right;\">\n",
       "      <th></th>\n",
       "      <th>tweet_id</th>\n",
       "      <th>sentiment</th>\n",
       "      <th>tweet_text</th>\n",
       "    </tr>\n",
       "  </thead>\n",
       "  <tbody>\n",
       "    <tr>\n",
       "      <th>0</th>\n",
       "      <td>264183816548130816</td>\n",
       "      <td>positive</td>\n",
       "      <td>Gas by my house hit $3.39!!!! I\\u2019m going t...</td>\n",
       "    </tr>\n",
       "    <tr>\n",
       "      <th>1</th>\n",
       "      <td>263405084770172928</td>\n",
       "      <td>negative</td>\n",
       "      <td>Theo Walcott is still shit\\u002c watch Rafa an...</td>\n",
       "    </tr>\n",
       "    <tr>\n",
       "      <th>2</th>\n",
       "      <td>262163168678248449</td>\n",
       "      <td>negative</td>\n",
       "      <td>its not that I\\u2019m a GSP fan\\u002c i just h...</td>\n",
       "    </tr>\n",
       "    <tr>\n",
       "      <th>3</th>\n",
       "      <td>264249301910310912</td>\n",
       "      <td>negative</td>\n",
       "      <td>Iranian general says Israel\\u2019s Iron Dome c...</td>\n",
       "    </tr>\n",
       "    <tr>\n",
       "      <th>4</th>\n",
       "      <td>262682041215234048</td>\n",
       "      <td>neutral</td>\n",
       "      <td>Tehran\\u002c Mon Amour: Obama Tried to Establi...</td>\n",
       "    </tr>\n",
       "    <tr>\n",
       "      <th>...</th>\n",
       "      <td>...</td>\n",
       "      <td>...</td>\n",
       "      <td>...</td>\n",
       "    </tr>\n",
       "    <tr>\n",
       "      <th>21460</th>\n",
       "      <td>522949024132112384</td>\n",
       "      <td>neutral</td>\n",
       "      <td>the day after newark ill be able to say \"\"i me...</td>\n",
       "    </tr>\n",
       "    <tr>\n",
       "      <th>21461</th>\n",
       "      <td>522372593312350209</td>\n",
       "      <td>neutral</td>\n",
       "      <td>FEC hold farewell session for seven ministers ...</td>\n",
       "    </tr>\n",
       "    <tr>\n",
       "      <th>21462</th>\n",
       "      <td>522515200592052224</td>\n",
       "      <td>neutral</td>\n",
       "      <td>Luca Di Montezemolo (who's last day was Monday...</td>\n",
       "    </tr>\n",
       "    <tr>\n",
       "      <th>21463</th>\n",
       "      <td>523089087155437568</td>\n",
       "      <td>positive</td>\n",
       "      <td>Coffee is pretty much the answer to all questi...</td>\n",
       "    </tr>\n",
       "    <tr>\n",
       "      <th>21464</th>\n",
       "      <td>518290874300514304</td>\n",
       "      <td>neutral</td>\n",
       "      <td>Niki Lauda just confirmed to Sky that Alonso w...</td>\n",
       "    </tr>\n",
       "  </tbody>\n",
       "</table>\n",
       "<p>21465 rows × 3 columns</p>\n",
       "</div>"
      ],
      "text/plain": [
       "                 tweet_id sentiment  \\\n",
       "0      264183816548130816  positive   \n",
       "1      263405084770172928  negative   \n",
       "2      262163168678248449  negative   \n",
       "3      264249301910310912  negative   \n",
       "4      262682041215234048   neutral   \n",
       "...                   ...       ...   \n",
       "21460  522949024132112384   neutral   \n",
       "21461  522372593312350209   neutral   \n",
       "21462  522515200592052224   neutral   \n",
       "21463  523089087155437568  positive   \n",
       "21464  518290874300514304   neutral   \n",
       "\n",
       "                                              tweet_text  \n",
       "0      Gas by my house hit $3.39!!!! I\\u2019m going t...  \n",
       "1      Theo Walcott is still shit\\u002c watch Rafa an...  \n",
       "2      its not that I\\u2019m a GSP fan\\u002c i just h...  \n",
       "3      Iranian general says Israel\\u2019s Iron Dome c...  \n",
       "4      Tehran\\u002c Mon Amour: Obama Tried to Establi...  \n",
       "...                                                  ...  \n",
       "21460  the day after newark ill be able to say \"\"i me...  \n",
       "21461  FEC hold farewell session for seven ministers ...  \n",
       "21462  Luca Di Montezemolo (who's last day was Monday...  \n",
       "21463  Coffee is pretty much the answer to all questi...  \n",
       "21464  Niki Lauda just confirmed to Sky that Alonso w...  \n",
       "\n",
       "[21465 rows x 3 columns]"
      ]
     },
     "execution_count": 6,
     "metadata": {},
     "output_type": "execute_result"
    }
   ],
   "source": [
    "import pandas as pd\n",
    "\n",
    "dataset = pd.read_csv(\"train.txt\")\n",
    "dataset"
   ]
  },
  {
   "cell_type": "markdown",
   "metadata": {},
   "source": [
    "### Preprocessing data before feeding it to ML models"
   ]
  },
  {
   "cell_type": "code",
   "execution_count": 7,
   "metadata": {},
   "outputs": [
    {
     "name": "stdout",
     "output_type": "stream",
     "text": [
      "Processed text :: \n",
      "\n",
      " 0          Gas house hit 339 Iu2019m going Chapel Hill Sat\n",
      "1        Theo Walcott still shitu002c watch Rafa Johnny...\n",
      "2        Iu2019m GSP fanu002c hate Nick Diaz canu2019t ...\n",
      "3        Iranian general says Israelu2019s Iron Dome ca...\n",
      "4        Tehranu002c Mon Amour Obama Tried Establish Ti...\n",
      "                               ...                        \n",
      "21460    day newark ill able say met demi lovato yester...\n",
      "21461    FEC hold farewell session seven ministers Pres...\n",
      "21462    Luca Di Montezemolo whos last day Monday Alons...\n",
      "21463    Coffee pretty much answer questions today Frid...\n",
      "21464    Niki Lauda confirmed Sky Alonso released conta...\n",
      "Name: tweet_text, Length: 21465, dtype: object\n"
     ]
    }
   ],
   "source": [
    "processed_text = dataset['tweet_text'].apply(preprocess_tweet_text)\n",
    "print(\"Processed text :: \\n\\n\", processed_text)"
   ]
  },
  {
   "cell_type": "markdown",
   "metadata": {},
   "source": [
    "# Stemming ::\n",
    "\n",
    " * It may be defined as the process to remove the inflectional forms of a word and bring them to a base form called the **stem**.\n",
    " * The chopped-off pieces are referred to as affixes\n",
    " * The two most common algorithms/methods employed for stemming include the ::\n",
    "  \n",
    "    * Porter Stemmer\n",
    "    * Snowball Stemmer\n",
    "    \n",
    "We will be using `Porter Stemmer` in our process."
   ]
  },
  {
   "cell_type": "code",
   "execution_count": 8,
   "metadata": {},
   "outputs": [],
   "source": [
    "stemmer = PorterStemmer()\n",
    "stemmed_words = [stemmer.stem(i) for i in processed_text]\n"
   ]
  },
  {
   "cell_type": "markdown",
   "metadata": {},
   "source": [
    "# Lemmatization :: \n",
    "\n",
    "  * It is a process wherein the context is used to convert a word to its meaningful base form. \n",
    "  * It helps in grouping together words that have a common base form and so can be identified as a single item. \n",
    "  * The base form is referred to as the lemma of the word and is also sometimes known as the dictionary form.\n",
    "  * The most commonly used lemmatizers are the \n",
    "    * WordNet Lemmatizer\n",
    "    * Spacy Lemmatizer\n",
    "    * TextBlob Lemmatizer\n",
    "\n",
    "We will be using `WordNet Lemmatizer` in our process."
   ]
  },
  {
   "cell_type": "code",
   "execution_count": 9,
   "metadata": {},
   "outputs": [],
   "source": [
    "lemmatizer = WordNetLemmatizer()\n",
    "lemma_words = [lemmatizer.lemmatize(w, pos='a') for w in stemmed_words]\n"
   ]
  },
  {
   "cell_type": "markdown",
   "metadata": {},
   "source": [
    "# Vectorization ::\n",
    "\n",
    "Processing natural language text and extract useful information from the given word or a sentence using machine learning and deep learning techniques requires the string/text needs to be converted into a set of real numbers (a vector) — **Word Embeddings**.\n",
    "\n",
    "Word Embeddings or Word vectorization is a methodology in NLP to map words or phrases from vocabulary to a corresponding vector of real numbers which used to find word predictions, word similarities/semantics.\n",
    "\n",
    " The process of converting words into numbers are called `Vectorization`\n",
    "\n",
    "\n"
   ]
  },
  {
   "cell_type": "code",
   "execution_count": 10,
   "metadata": {},
   "outputs": [],
   "source": [
    "tf_vector = get_feature_vector(np.array(dataset[\"tweet_text\"]).ravel())"
   ]
  },
  {
   "cell_type": "markdown",
   "metadata": {},
   "source": [
    "# Defining the Variables :"
   ]
  },
  {
   "cell_type": "code",
   "execution_count": 11,
   "metadata": {},
   "outputs": [],
   "source": [
    "X = tf_vector.transform(np.array(dataset[\"tweet_text\"]).ravel())     # Predictor Variable\n",
    "y = np.array(dataset[\"sentiment\"]).ravel()                           # Target varaible"
   ]
  },
  {
   "cell_type": "markdown",
   "metadata": {},
   "source": [
    "### Splitting the data into training and testing data"
   ]
  },
  {
   "cell_type": "code",
   "execution_count": 12,
   "metadata": {},
   "outputs": [],
   "source": [
    "X_train, X_test, y_train, y_test = train_test_split(X, y, test_size=0.2, random_state=30)"
   ]
  },
  {
   "cell_type": "markdown",
   "metadata": {},
   "source": [
    "# Using Naive Bayes Model :"
   ]
  },
  {
   "cell_type": "code",
   "execution_count": 13,
   "metadata": {},
   "outputs": [
    {
     "data": {
      "text/plain": [
       "MultinomialNB(alpha=1.0, class_prior=None, fit_prior=True)"
      ]
     },
     "execution_count": 13,
     "metadata": {},
     "output_type": "execute_result"
    }
   ],
   "source": [
    "NB_model = MultinomialNB()\n",
    "NB_model.fit(X_train, y_train)"
   ]
  },
  {
   "cell_type": "markdown",
   "metadata": {},
   "source": [
    "### Predicting the values and the Accuracy Score"
   ]
  },
  {
   "cell_type": "code",
   "execution_count": 14,
   "metadata": {},
   "outputs": [
    {
     "name": "stdout",
     "output_type": "stream",
     "text": [
      "Accuracy Score for Naive Bayes Model is ::  0.5918937805730259\n"
     ]
    }
   ],
   "source": [
    "y_predict_nb = NB_model.predict(X_test)\n",
    "print(\"Accuracy Score for Naive Bayes Model is :: \", accuracy_score(y_test, y_predict_nb))"
   ]
  },
  {
   "cell_type": "markdown",
   "metadata": {},
   "source": [
    "# Classification Report :"
   ]
  },
  {
   "cell_type": "code",
   "execution_count": 15,
   "metadata": {},
   "outputs": [
    {
     "name": "stdout",
     "output_type": "stream",
     "text": [
      "Classification_Report :: \n",
      "\n",
      "               precision    recall  f1-score   support\n",
      "\n",
      "    negative       1.00      0.00      0.00       676\n",
      "     neutral       0.60      0.60      0.60      1809\n",
      "    positive       0.58      0.81      0.68      1808\n",
      "\n",
      "    accuracy                           0.59      4293\n",
      "   macro avg       0.73      0.47      0.43      4293\n",
      "weighted avg       0.66      0.59      0.54      4293\n",
      "\n"
     ]
    }
   ],
   "source": [
    "print(\"Classification_Report :: \\n\\n\", classification_report(y_test, y_predict_nb))"
   ]
  },
  {
   "cell_type": "markdown",
   "metadata": {},
   "source": [
    "# Using Logistic Regression Model :"
   ]
  },
  {
   "cell_type": "code",
   "execution_count": 16,
   "metadata": {},
   "outputs": [
    {
     "name": "stderr",
     "output_type": "stream",
     "text": [
      "C:\\Users\\SILENTONE\\AppData\\Roaming\\Python\\Python37\\site-packages\\sklearn\\linear_model\\logistic.py:469: FutureWarning: Default multi_class will be changed to 'auto' in 0.22. Specify the multi_class option to silence this warning.\n",
      "  \"this warning.\", FutureWarning)\n"
     ]
    },
    {
     "data": {
      "text/plain": [
       "LogisticRegression(C=1.0, class_weight=None, dual=False, fit_intercept=True,\n",
       "                   intercept_scaling=1, l1_ratio=None, max_iter=100,\n",
       "                   multi_class='warn', n_jobs=None, penalty='l2',\n",
       "                   random_state=None, solver='lbfgs', tol=0.0001, verbose=0,\n",
       "                   warm_start=False)"
      ]
     },
     "execution_count": 16,
     "metadata": {},
     "output_type": "execute_result"
    }
   ],
   "source": [
    "# Training Logistics Regression model\n",
    "LR_model = LogisticRegression(solver='lbfgs')\n",
    "LR_model.fit(X_train, y_train)"
   ]
  },
  {
   "cell_type": "markdown",
   "metadata": {},
   "source": [
    "### Predicting the Values :"
   ]
  },
  {
   "cell_type": "code",
   "execution_count": 17,
   "metadata": {},
   "outputs": [
    {
     "name": "stdout",
     "output_type": "stream",
     "text": [
      "Accuracy Score for Logistic Regression Model is ::  0.6389471232238528\n"
     ]
    }
   ],
   "source": [
    "y_predict_lr = LR_model.predict(X_test)\n",
    "print(\"Accuracy Score for Logistic Regression Model is :: \",accuracy_score(y_test, y_predict_lr))"
   ]
  },
  {
   "cell_type": "markdown",
   "metadata": {},
   "source": [
    "# Classification Report"
   ]
  },
  {
   "cell_type": "code",
   "execution_count": 18,
   "metadata": {},
   "outputs": [
    {
     "name": "stdout",
     "output_type": "stream",
     "text": [
      "Classification_Report :: \n",
      "\n",
      "               precision    recall  f1-score   support\n",
      "\n",
      "    negative       0.63      0.21      0.32       676\n",
      "     neutral       0.60      0.74      0.66      1809\n",
      "    positive       0.68      0.70      0.69      1808\n",
      "\n",
      "    accuracy                           0.64      4293\n",
      "   macro avg       0.64      0.55      0.56      4293\n",
      "weighted avg       0.64      0.64      0.62      4293\n",
      "\n"
     ]
    }
   ],
   "source": [
    "from sklearn.metrics import classification_report\n",
    "\n",
    "print(\"Classification_Report :: \\n\\n\", classification_report(y_test, y_predict_lr))"
   ]
  },
  {
   "cell_type": "markdown",
   "metadata": {},
   "source": [
    "# Importing the Test Data :"
   ]
  },
  {
   "cell_type": "code",
   "execution_count": 19,
   "metadata": {},
   "outputs": [
    {
     "data": {
      "text/html": [
       "<div>\n",
       "<style scoped>\n",
       "    .dataframe tbody tr th:only-of-type {\n",
       "        vertical-align: middle;\n",
       "    }\n",
       "\n",
       "    .dataframe tbody tr th {\n",
       "        vertical-align: top;\n",
       "    }\n",
       "\n",
       "    .dataframe thead th {\n",
       "        text-align: right;\n",
       "    }\n",
       "</style>\n",
       "<table border=\"1\" class=\"dataframe\">\n",
       "  <thead>\n",
       "    <tr style=\"text-align: right;\">\n",
       "      <th></th>\n",
       "      <th>tweet_id</th>\n",
       "      <th>tweet_text</th>\n",
       "    </tr>\n",
       "  </thead>\n",
       "  <tbody>\n",
       "    <tr>\n",
       "      <th>0</th>\n",
       "      <td>264238274963451904</td>\n",
       "      <td>@jjuueellzz down in the Atlantic city, ventnor...</td>\n",
       "    </tr>\n",
       "    <tr>\n",
       "      <th>1</th>\n",
       "      <td>218775148495515649</td>\n",
       "      <td>Musical awareness: Great Big Beautiful Tomorro...</td>\n",
       "    </tr>\n",
       "    <tr>\n",
       "      <th>2</th>\n",
       "      <td>258965201766998017</td>\n",
       "      <td>On Radio786 100.4fm 7:10 Fri Oct 19 Labour ana...</td>\n",
       "    </tr>\n",
       "    <tr>\n",
       "      <th>3</th>\n",
       "      <td>262926411352903682</td>\n",
       "      <td>Kapan sih lo ngebuktiin,jan ngomong doang Susa...</td>\n",
       "    </tr>\n",
       "    <tr>\n",
       "      <th>4</th>\n",
       "      <td>171874368908050432</td>\n",
       "      <td>Excuse the connectivity of this live stream, f...</td>\n",
       "    </tr>\n",
       "    <tr>\n",
       "      <th>...</th>\n",
       "      <td>...</td>\n",
       "      <td>...</td>\n",
       "    </tr>\n",
       "    <tr>\n",
       "      <th>5393</th>\n",
       "      <td>210378118865756160</td>\n",
       "      <td>It's a Wednesday girls night out as '90's band...</td>\n",
       "    </tr>\n",
       "    <tr>\n",
       "      <th>5394</th>\n",
       "      <td>245177521304399872</td>\n",
       "      <td>night college course sorted, just have to enro...</td>\n",
       "    </tr>\n",
       "    <tr>\n",
       "      <th>5395</th>\n",
       "      <td>259280987089932288</td>\n",
       "      <td>For the 1st time in 30 years. For your splendi...</td>\n",
       "    </tr>\n",
       "    <tr>\n",
       "      <th>5396</th>\n",
       "      <td>201113950211940352</td>\n",
       "      <td>NURSES DAY - 12 MAY 2012. Nursing: The heart b...</td>\n",
       "    </tr>\n",
       "    <tr>\n",
       "      <th>5397</th>\n",
       "      <td>237999067286876160</td>\n",
       "      <td>We have 15 minutes left until the 2nd episode ...</td>\n",
       "    </tr>\n",
       "  </tbody>\n",
       "</table>\n",
       "<p>5398 rows × 2 columns</p>\n",
       "</div>"
      ],
      "text/plain": [
       "                tweet_id                                         tweet_text\n",
       "0     264238274963451904  @jjuueellzz down in the Atlantic city, ventnor...\n",
       "1     218775148495515649  Musical awareness: Great Big Beautiful Tomorro...\n",
       "2     258965201766998017  On Radio786 100.4fm 7:10 Fri Oct 19 Labour ana...\n",
       "3     262926411352903682  Kapan sih lo ngebuktiin,jan ngomong doang Susa...\n",
       "4     171874368908050432  Excuse the connectivity of this live stream, f...\n",
       "...                  ...                                                ...\n",
       "5393  210378118865756160  It's a Wednesday girls night out as '90's band...\n",
       "5394  245177521304399872  night college course sorted, just have to enro...\n",
       "5395  259280987089932288  For the 1st time in 30 years. For your splendi...\n",
       "5396  201113950211940352  NURSES DAY - 12 MAY 2012. Nursing: The heart b...\n",
       "5397  237999067286876160  We have 15 minutes left until the 2nd episode ...\n",
       "\n",
       "[5398 rows x 2 columns]"
      ]
     },
     "execution_count": 19,
     "metadata": {},
     "output_type": "execute_result"
    }
   ],
   "source": [
    "test = pd.read_csv(\"test.txt\")\n",
    "test"
   ]
  },
  {
   "cell_type": "code",
   "execution_count": 20,
   "metadata": {},
   "outputs": [],
   "source": [
    "test.tweet_text = test[\"tweet_text\"].apply(preprocess_tweet_text)\n",
    "test_feature = tf_vector.transform(np.array(test['tweet_text']).ravel())\n"
   ]
  },
  {
   "cell_type": "markdown",
   "metadata": {},
   "source": [
    "# Using Naive Bayes Model for Prediction ::"
   ]
  },
  {
   "cell_type": "code",
   "execution_count": 21,
   "metadata": {},
   "outputs": [
    {
     "data": {
      "text/plain": [
       "array(['neutral', 'positive', 'neutral', ..., 'positive', 'neutral',\n",
       "       'positive'], dtype='<U8')"
      ]
     },
     "execution_count": 21,
     "metadata": {},
     "output_type": "execute_result"
    }
   ],
   "source": [
    "\n",
    "test_prediction_nb = NB_model.predict(test_feature)\n",
    "\n",
    "#test_prediction_nb = NB_model.predict(['Hi you are '])\n",
    "\n",
    "test_prediction_nb\n"
   ]
  },
  {
   "cell_type": "code",
   "execution_count": 22,
   "metadata": {},
   "outputs": [
    {
     "data": {
      "text/html": [
       "<div>\n",
       "<style scoped>\n",
       "    .dataframe tbody tr th:only-of-type {\n",
       "        vertical-align: middle;\n",
       "    }\n",
       "\n",
       "    .dataframe tbody tr th {\n",
       "        vertical-align: top;\n",
       "    }\n",
       "\n",
       "    .dataframe thead th {\n",
       "        text-align: right;\n",
       "    }\n",
       "</style>\n",
       "<table border=\"1\" class=\"dataframe\">\n",
       "  <thead>\n",
       "    <tr style=\"text-align: right;\">\n",
       "      <th></th>\n",
       "      <th>tweet_id</th>\n",
       "      <th>sentiment</th>\n",
       "    </tr>\n",
       "  </thead>\n",
       "  <tbody>\n",
       "    <tr>\n",
       "      <th>0</th>\n",
       "      <td>264238274963451904</td>\n",
       "      <td>neutral</td>\n",
       "    </tr>\n",
       "    <tr>\n",
       "      <th>1</th>\n",
       "      <td>218775148495515649</td>\n",
       "      <td>positive</td>\n",
       "    </tr>\n",
       "    <tr>\n",
       "      <th>2</th>\n",
       "      <td>258965201766998017</td>\n",
       "      <td>neutral</td>\n",
       "    </tr>\n",
       "    <tr>\n",
       "      <th>3</th>\n",
       "      <td>262926411352903682</td>\n",
       "      <td>positive</td>\n",
       "    </tr>\n",
       "    <tr>\n",
       "      <th>4</th>\n",
       "      <td>171874368908050432</td>\n",
       "      <td>neutral</td>\n",
       "    </tr>\n",
       "    <tr>\n",
       "      <th>...</th>\n",
       "      <td>...</td>\n",
       "      <td>...</td>\n",
       "    </tr>\n",
       "    <tr>\n",
       "      <th>5393</th>\n",
       "      <td>210378118865756160</td>\n",
       "      <td>neutral</td>\n",
       "    </tr>\n",
       "    <tr>\n",
       "      <th>5394</th>\n",
       "      <td>245177521304399872</td>\n",
       "      <td>positive</td>\n",
       "    </tr>\n",
       "    <tr>\n",
       "      <th>5395</th>\n",
       "      <td>259280987089932288</td>\n",
       "      <td>positive</td>\n",
       "    </tr>\n",
       "    <tr>\n",
       "      <th>5396</th>\n",
       "      <td>201113950211940352</td>\n",
       "      <td>neutral</td>\n",
       "    </tr>\n",
       "    <tr>\n",
       "      <th>5397</th>\n",
       "      <td>237999067286876160</td>\n",
       "      <td>positive</td>\n",
       "    </tr>\n",
       "  </tbody>\n",
       "</table>\n",
       "<p>5398 rows × 2 columns</p>\n",
       "</div>"
      ],
      "text/plain": [
       "                tweet_id sentiment\n",
       "0     264238274963451904   neutral\n",
       "1     218775148495515649  positive\n",
       "2     258965201766998017   neutral\n",
       "3     262926411352903682  positive\n",
       "4     171874368908050432   neutral\n",
       "...                  ...       ...\n",
       "5393  210378118865756160   neutral\n",
       "5394  245177521304399872  positive\n",
       "5395  259280987089932288  positive\n",
       "5396  201113950211940352   neutral\n",
       "5397  237999067286876160  positive\n",
       "\n",
       "[5398 rows x 2 columns]"
      ]
     },
     "execution_count": 22,
     "metadata": {},
     "output_type": "execute_result"
    }
   ],
   "source": [
    "# Creating a Dataframe consising tweets and sentiment in a submission format\n",
    "\n",
    "submission_result_nb = pd.DataFrame({'tweet_id': test.tweet_id, 'sentiment':test_prediction_nb})\n",
    "submission_result_nb"
   ]
  },
  {
   "cell_type": "code",
   "execution_count": 23,
   "metadata": {},
   "outputs": [
    {
     "data": {
      "text/plain": [
       "positive    3177\n",
       "neutral     2220\n",
       "negative       1\n",
       "Name: sentiment, dtype: int64"
      ]
     },
     "execution_count": 23,
     "metadata": {},
     "output_type": "execute_result"
    }
   ],
   "source": [
    "# Total number os tweets grouped according sentiment\n",
    "\n",
    "test_result = submission_result_nb['sentiment'].value_counts()\n",
    "test_result"
   ]
  },
  {
   "cell_type": "markdown",
   "metadata": {},
   "source": [
    "# Using Logistic Regression Model for Prediction ::"
   ]
  },
  {
   "cell_type": "code",
   "execution_count": 24,
   "metadata": {},
   "outputs": [
    {
     "data": {
      "text/plain": [
       "array(['neutral', 'positive', 'neutral', ..., 'neutral', 'neutral',\n",
       "       'positive'], dtype=object)"
      ]
     },
     "execution_count": 24,
     "metadata": {},
     "output_type": "execute_result"
    }
   ],
   "source": [
    "test_prediction_lr = LR_model.predict(test_feature)\n",
    "test_prediction_lr"
   ]
  },
  {
   "cell_type": "code",
   "execution_count": 25,
   "metadata": {},
   "outputs": [
    {
     "data": {
      "text/html": [
       "<div>\n",
       "<style scoped>\n",
       "    .dataframe tbody tr th:only-of-type {\n",
       "        vertical-align: middle;\n",
       "    }\n",
       "\n",
       "    .dataframe tbody tr th {\n",
       "        vertical-align: top;\n",
       "    }\n",
       "\n",
       "    .dataframe thead th {\n",
       "        text-align: right;\n",
       "    }\n",
       "</style>\n",
       "<table border=\"1\" class=\"dataframe\">\n",
       "  <thead>\n",
       "    <tr style=\"text-align: right;\">\n",
       "      <th></th>\n",
       "      <th>tweet_id</th>\n",
       "      <th>sentiment</th>\n",
       "    </tr>\n",
       "  </thead>\n",
       "  <tbody>\n",
       "    <tr>\n",
       "      <th>0</th>\n",
       "      <td>264238274963451904</td>\n",
       "      <td>neutral</td>\n",
       "    </tr>\n",
       "    <tr>\n",
       "      <th>1</th>\n",
       "      <td>218775148495515649</td>\n",
       "      <td>positive</td>\n",
       "    </tr>\n",
       "    <tr>\n",
       "      <th>2</th>\n",
       "      <td>258965201766998017</td>\n",
       "      <td>neutral</td>\n",
       "    </tr>\n",
       "    <tr>\n",
       "      <th>3</th>\n",
       "      <td>262926411352903682</td>\n",
       "      <td>positive</td>\n",
       "    </tr>\n",
       "    <tr>\n",
       "      <th>4</th>\n",
       "      <td>171874368908050432</td>\n",
       "      <td>neutral</td>\n",
       "    </tr>\n",
       "    <tr>\n",
       "      <th>...</th>\n",
       "      <td>...</td>\n",
       "      <td>...</td>\n",
       "    </tr>\n",
       "    <tr>\n",
       "      <th>5393</th>\n",
       "      <td>210378118865756160</td>\n",
       "      <td>neutral</td>\n",
       "    </tr>\n",
       "    <tr>\n",
       "      <th>5394</th>\n",
       "      <td>245177521304399872</td>\n",
       "      <td>positive</td>\n",
       "    </tr>\n",
       "    <tr>\n",
       "      <th>5395</th>\n",
       "      <td>259280987089932288</td>\n",
       "      <td>positive</td>\n",
       "    </tr>\n",
       "    <tr>\n",
       "      <th>5396</th>\n",
       "      <td>201113950211940352</td>\n",
       "      <td>neutral</td>\n",
       "    </tr>\n",
       "    <tr>\n",
       "      <th>5397</th>\n",
       "      <td>237999067286876160</td>\n",
       "      <td>positive</td>\n",
       "    </tr>\n",
       "  </tbody>\n",
       "</table>\n",
       "<p>5398 rows × 2 columns</p>\n",
       "</div>"
      ],
      "text/plain": [
       "                tweet_id sentiment\n",
       "0     264238274963451904   neutral\n",
       "1     218775148495515649  positive\n",
       "2     258965201766998017   neutral\n",
       "3     262926411352903682  positive\n",
       "4     171874368908050432   neutral\n",
       "...                  ...       ...\n",
       "5393  210378118865756160   neutral\n",
       "5394  245177521304399872  positive\n",
       "5395  259280987089932288  positive\n",
       "5396  201113950211940352   neutral\n",
       "5397  237999067286876160  positive\n",
       "\n",
       "[5398 rows x 2 columns]"
      ]
     },
     "execution_count": 25,
     "metadata": {},
     "output_type": "execute_result"
    }
   ],
   "source": [
    "# Creating a Dataframe consising tweets and sentiment\n",
    "\n",
    "submission_result_lr = pd.DataFrame({'tweet_id': test.tweet_id, 'sentiment':test_prediction_nb})\n",
    "submission_result_lr"
   ]
  },
  {
   "cell_type": "code",
   "execution_count": 26,
   "metadata": {},
   "outputs": [
    {
     "data": {
      "text/plain": [
       "positive    3177\n",
       "neutral     2220\n",
       "negative       1\n",
       "Name: sentiment, dtype: int64"
      ]
     },
     "execution_count": 26,
     "metadata": {},
     "output_type": "execute_result"
    }
   ],
   "source": [
    "# Total number os tweets grouped according sentiment\n",
    "\n",
    "test_result2 = submission_result_lr['sentiment'].value_counts()\n",
    "test_result2"
   ]
  },
  {
   "cell_type": "code",
   "execution_count": 27,
   "metadata": {},
   "outputs": [],
   "source": [
    "from chatterbot import ChatBot\n",
    "from chatterbot.trainers import ListTrainer"
   ]
  },
  {
   "cell_type": "code",
   "execution_count": 28,
   "metadata": {},
   "outputs": [],
   "source": [
    "from nltk.chat.util import Chat, reflections"
   ]
  },
  {
   "cell_type": "code",
   "execution_count": 29,
   "metadata": {},
   "outputs": [],
   "source": [
    "def tweetsentiment(msg):\n",
    "    test.tweet_text = preprocess_tweet_text(msg)\n",
    "    test_feature = tf_vector.transform(np.array(msg).ravel())\n",
    "    test_prediction_lr = LR_model.predict(test_feature)\n",
    "    return (test_prediction_lr[0])\n",
    "\n",
    "#tweetsentiment(\"Hi how are you\")"
   ]
  },
  {
   "cell_type": "code",
   "execution_count": null,
   "metadata": {},
   "outputs": [
    {
     "name": "stdout",
     "output_type": "stream",
     "text": [
      "3.0\n"
     ]
    },
    {
     "name": "stderr",
     "output_type": "stream",
     "text": [
      "Exception in Tkinter callback\n",
      "Traceback (most recent call last):\n",
      "  File \"C:\\Users\\SILENTONE\\anaconda3\\lib\\tkinter\\__init__.py\", line 1705, in __call__\n",
      "    return self.func(*args)\n",
      "  File \"<ipython-input-32-ef343b939493>\", line 38, in reply_to_you\n",
      "    self.add_chat(reply)\n",
      "NameError: name 'reply' is not defined\n"
     ]
    },
    {
     "name": "stdout",
     "output_type": "stream",
     "text": [
      "4.5\n"
     ]
    },
    {
     "name": "stderr",
     "output_type": "stream",
     "text": [
      "Exception in Tkinter callback\n",
      "Traceback (most recent call last):\n",
      "  File \"C:\\Users\\SILENTONE\\anaconda3\\lib\\tkinter\\__init__.py\", line 1705, in __call__\n",
      "    return self.func(*args)\n",
      "  File \"<ipython-input-32-ef343b939493>\", line 38, in reply_to_you\n",
      "    self.add_chat(reply)\n",
      "NameError: name 'reply' is not defined\n"
     ]
    },
    {
     "name": "stdout",
     "output_type": "stream",
     "text": [
      "6.0\n"
     ]
    },
    {
     "name": "stderr",
     "output_type": "stream",
     "text": [
      "Exception in Tkinter callback\n",
      "Traceback (most recent call last):\n",
      "  File \"C:\\Users\\SILENTONE\\anaconda3\\lib\\tkinter\\__init__.py\", line 1705, in __call__\n",
      "    return self.func(*args)\n",
      "  File \"<ipython-input-32-ef343b939493>\", line 38, in reply_to_you\n",
      "    self.add_chat(reply)\n",
      "NameError: name 'reply' is not defined\n"
     ]
    },
    {
     "name": "stdout",
     "output_type": "stream",
     "text": [
      "7.5\n"
     ]
    },
    {
     "name": "stderr",
     "output_type": "stream",
     "text": [
      "Exception in Tkinter callback\n",
      "Traceback (most recent call last):\n",
      "  File \"C:\\Users\\SILENTONE\\anaconda3\\lib\\tkinter\\__init__.py\", line 1705, in __call__\n",
      "    return self.func(*args)\n",
      "  File \"<ipython-input-32-ef343b939493>\", line 38, in reply_to_you\n",
      "    self.add_chat(reply)\n",
      "NameError: name 'reply' is not defined\n"
     ]
    }
   ],
   "source": [
    "import json\n",
    "from difflib import get_close_matches\n",
    "from tkinter import *\n",
    "\n",
    "class Chatbot:\n",
    "    def __init__(self, window):\n",
    "        window.title('Twitter Sentiment Analysis')\n",
    "        window.geometry('400x450')\n",
    "        window.resizable(0,0)\n",
    "        self.message_session = Text(window, bd=3, relief=\"flat\", font=(\"Times\", 10), undo=True, wrap=\"word\")\n",
    "        self.message_session.config(width=45, height=15,bg=\"#596\", fg=\"white\", state='disabled')\n",
    "        self.overscroll = Scrollbar(window, command=self.message_session.yview)\n",
    "        self.overscroll.config(width=20)\n",
    "        self.message_session[\"yscrollcommand\"] = self.overscroll.set\n",
    "        self.message_position = 1.5\n",
    "        self.send_button = Button(window, text='send', fg='white', bg='blue',width=9,font=('Times', 12), relief ='flat', command = self.reply_to_you)\n",
    "        self.Message_Entry = Entry(window, width=40, font=('Times', 12))\n",
    "        self.Message_Entry.bind('<Return>', self.reply_to_you)\n",
    "        self.message_session.place(x=20, y=20)\n",
    "        self.overscroll.place(x=370, y=50)\n",
    "        self.send_button.place(x=0, y=360)\n",
    "        self.Message_Entry.place(x=135, y=365)\n",
    "        #self.Brain = json.load(open('knowledge.json'))\n",
    "\n",
    "    def add_chat(self, message):\n",
    "        self.message_position+=1.5\n",
    "        print(self.message_position)\n",
    "        self.Message_Entry.delete(0, 'end')\n",
    "        self.message_session.config(state='normal')\n",
    "        self.message_session.insert(self.message_position, message)\n",
    "        self.message_session.see('end')\n",
    "        self.message_session.config(state='disabled')\n",
    "        \n",
    "    def reply_to_you(self, event=None):\n",
    "        message = self.Message_Entry.get().lower()\n",
    "        message = 'TS Model: '+tweetsentiment(message) +'\\n'\n",
    "        self.add_chat(message)\n",
    "        self.add_chat(reply)\n",
    "\n",
    "root = Tk()\n",
    "main_menu = Menu(root)\n",
    "\n",
    "# Create the submenu \n",
    "file_menu = Menu(root)\n",
    "\n",
    "# Add commands to submenu\n",
    "file_menu.add_command(label=\"New..\")\n",
    "file_menu.add_command(label=\"Save As..\")\n",
    "file_menu.add_command(label=\"Exit\")\n",
    "main_menu.add_cascade(label=\"File\", menu=file_menu)\n",
    "#Add the rest of the menu options to the main menu\n",
    "main_menu.add_command(label=\"Edit\")\n",
    "main_menu.add_command(label=\"Quit\")\n",
    "root.config(menu=main_menu)\n",
    "Chatbot(root)\n",
    "root.mainloop()\n"
   ]
  }
 ],
 "metadata": {
  "kernelspec": {
   "display_name": "Python 3",
   "language": "python",
   "name": "python3"
  },
  "language_info": {
   "codemirror_mode": {
    "name": "ipython",
    "version": 3
   },
   "file_extension": ".py",
   "mimetype": "text/x-python",
   "name": "python",
   "nbconvert_exporter": "python",
   "pygments_lexer": "ipython3",
   "version": "3.7.6"
  }
 },
 "nbformat": 4,
 "nbformat_minor": 4
}
